{
 "cells": [
  {
   "cell_type": "code",
   "execution_count": 1,
   "metadata": {},
   "outputs": [],
   "source": [
    "# downloading dataset from kaggle\n",
    "import modin.pandas as pd\n",
    "import os\n",
    "import opendatasets as od"
   ]
  },
  {
   "cell_type": "code",
   "execution_count": 5,
   "metadata": {},
   "outputs": [],
   "source": [
    "# assign kaggle dataset link\n",
    "# open kaggle account. Navigate to settings and search for api tok generation. Generate a new api token or use the previously created token if any.\n",
    "dataset_url = \"https://www.kaggle.com/datasets/bmadushanirodrigo/fracture-multi-region-x-ray-data\""
   ]
  },
  {
   "cell_type": "code",
   "execution_count": 8,
   "metadata": {},
   "outputs": [
    {
     "name": "stdout",
     "output_type": "stream",
     "text": [
      "bmadushanirodrigo fracture-multi-region-x-ray-data\n"
     ]
    }
   ],
   "source": [
    "prefix_url = \"https://www.kaggle.com/datasets/\"\n",
    "dataset_username, dataset_id = dataset_url.split(\"/\")[4:]"
   ]
  },
  {
   "cell_type": "code",
   "execution_count": null,
   "metadata": {},
   "outputs": [],
   "source": [
    "# using opendataset to download dataset from kaggle\n",
    "od.download(prefix_url+dataset_username+'/'+dataset_id)"
   ]
  },
  {
   "cell_type": "code",
   "execution_count": null,
   "metadata": {},
   "outputs": [],
   "source": []
  },
  {
   "cell_type": "markdown",
   "metadata": {},
   "source": [
    "# Data Ingestion Code Base"
   ]
  },
  {
   "cell_type": "code",
   "execution_count": 1,
   "metadata": {},
   "outputs": [
    {
     "data": {
      "text/plain": [
       "'c:\\\\Users\\\\naura\\\\Desktop\\\\end-to-end-ML\\\\computer-vision\\\\Bone-fracture-xray-classification\\\\notebooks'"
      ]
     },
     "execution_count": 1,
     "metadata": {},
     "output_type": "execute_result"
    }
   ],
   "source": [
    "import os\n",
    "%pwd"
   ]
  },
  {
   "cell_type": "code",
   "execution_count": 2,
   "metadata": {},
   "outputs": [
    {
     "data": {
      "text/plain": [
       "'c:\\\\Users\\\\naura\\\\Desktop\\\\end-to-end-ML\\\\computer-vision\\\\Bone-fracture-xray-classification'"
      ]
     },
     "execution_count": 2,
     "metadata": {},
     "output_type": "execute_result"
    }
   ],
   "source": [
    "os.chdir(\"../\")\n",
    "%pwd"
   ]
  },
  {
   "cell_type": "code",
   "execution_count": 3,
   "metadata": {},
   "outputs": [],
   "source": [
    "# Entity defined\n",
    "\n",
    "from pydantic import BaseModel\n",
    "from pathlib import Path\n",
    "\n",
    "# model attribute values are defined in config.yaml\n",
    "class DataIngestionConfig(BaseModel):\n",
    "    root_dir: Path\n",
    "    source_url: str\n",
    "    local_data_file: Path\n",
    "    unzip_dir: Path"
   ]
  },
  {
   "cell_type": "code",
   "execution_count": 4,
   "metadata": {},
   "outputs": [],
   "source": [
    "from boneFractureClassification.constants import CONFIG_FILE_PATH, PARAMS_FILE_PATH\n",
    "from boneFractureClassification.utils.common import read_yaml, create_directories"
   ]
  },
  {
   "cell_type": "code",
   "execution_count": 5,
   "metadata": {},
   "outputs": [],
   "source": [
    "from pathlib import Path\n",
    "\n",
    "class ConfigurationManager:\n",
    "    def __init__(\n",
    "        self,\n",
    "        config_filepath = CONFIG_FILE_PATH,\n",
    "        params_filepath = PARAMS_FILE_PATH):\n",
    "        \n",
    "        self.config = read_yaml(config_filepath)\n",
    "        self.params = read_yaml(params_filepath)\n",
    "        \n",
    "        # calling config/config.yaml attribute \"artifacts_root\" which returns artifacts as value which is a folder name to be created.\n",
    "        create_directories([self.config.artifacts_root])\n",
    "        \n",
    "    def get_data_ingestion_config(self) -> DataIngestionConfig:\n",
    "        config = self.config.data_ingestion\n",
    "        \n",
    "        # calling root_dir attribute from config/config.yaml which returns path\n",
    "        create_directories([config.root_dir])\n",
    "        \n",
    "        data_ingestion_config = DataIngestionConfig(\n",
    "            root_dir = config.root_dir,\n",
    "            source_url = config.source_url,\n",
    "            local_data_file = config.local_data_file,\n",
    "            unzip_dir = config.unzip_dir\n",
    "        )\n",
    "        \n",
    "        return data_ingestion_config"
   ]
  },
  {
   "cell_type": "code",
   "execution_count": 6,
   "metadata": {},
   "outputs": [],
   "source": [
    "import os\n",
    "import zipfile\n",
    "import opendatasets as od\n",
    "from boneFractureClassification import logger\n",
    "from boneFractureClassification.utils.common import get_size"
   ]
  },
  {
   "cell_type": "code",
   "execution_count": 9,
   "metadata": {},
   "outputs": [],
   "source": [
    "class DataIngestion:\n",
    "    def __init__(self, config: DataIngestionConfig):\n",
    "        self.config = config\n",
    "        \n",
    "    def download_file(self) -> str:\n",
    "        \"\"\"_summary_\n",
    "\n",
    "        Returns:\n",
    "            str: _description_\n",
    "        \"\"\"\n",
    "        \n",
    "        try:\n",
    "            dataset_url = self.config.source_url\n",
    "            zip_download_dir = self.config.local_data_file\n",
    "            os.makedirs(\"artifacts/data_ingestion\", exist_ok=True)\n",
    "            logger.info(f\"Downloading dataset from {dataset_url} into {zip_download_dir}\")\n",
    "            \n",
    "            user_name, dataset_id = dataset_url.split(\"/\")[4:]\n",
    "            prefix_url = \"https://www.kaggle.com/datasets/\"\n",
    "            od.download(prefix_url+user_name+\"/\"+dataset_id,data_dir=zip_download_dir)\n",
    "            \n",
    "            logger.info(f\"Finished Downloading!. Data stored at {zip_download_dir}\")\n",
    "        except Exception as e:\n",
    "            raise e\n",
    "    \n",
    "    \"\"\"    \n",
    "    # extract zip file \n",
    "    def extract_zip(self):\n",
    "        \n",
    "        unzip_path = self.config.unzip_dir\n",
    "        os.makedirs(unzip_path, exist_ok=True)\n",
    "        with zipfile.ZipFile(self.config.local_data_file, 'r') as f:\n",
    "            f.extractall(unzip_path)\n",
    "    \"\"\""
   ]
  },
  {
   "cell_type": "code",
   "execution_count": 10,
   "metadata": {},
   "outputs": [
    {
     "name": "stdout",
     "output_type": "stream",
     "text": [
      "[2024-05-30 23:55:09,715: INFO: common: yaml file: config\\config.yaml loaded successfully!]\n",
      "[2024-05-30 23:55:09,719: INFO: common: yaml file: params.yaml loaded successfully!]\n",
      "[2024-05-30 23:55:09,727: INFO: common: created directory at: artifacts]\n",
      "[2024-05-30 23:55:09,731: INFO: common: created directory at: artifacts/data_ingestion]\n",
      "[2024-05-30 23:55:09,739: INFO: 242197021: Downloading dataset from https://www.kaggle.com/datasets/bmadushanirodrigo/fracture-multi-region-x-ray-data into artifacts\\data_ingestion\\data.zip]\n",
      "Please provide your Kaggle credentials to download this dataset. Learn more: http://bit.ly/kaggle-creds\n",
      "Your Kaggle username:Your Kaggle Key:Dataset URL: https://www.kaggle.com/datasets/bmadushanirodrigo/fracture-multi-region-x-ray-data\n",
      "Downloading fracture-multi-region-x-ray-data.zip to artifacts\\data_ingestion\\data.zip\\fracture-multi-region-x-ray-data\n"
     ]
    },
    {
     "name": "stderr",
     "output_type": "stream",
     "text": [
      "100%|██████████| 481M/481M [01:30<00:00, 5.57MB/s] \n"
     ]
    },
    {
     "name": "stdout",
     "output_type": "stream",
     "text": [
      "\n",
      "[2024-05-30 23:57:26,933: INFO: 242197021: Finished Downloading!. Data stored at artifacts\\data_ingestion\\data.zip]\n"
     ]
    }
   ],
   "source": [
    "try:\n",
    "    config = ConfigurationManager()\n",
    "    data_ingestion_config = config.get_data_ingestion_config()\n",
    "    data_ingestion = DataIngestion(config=data_ingestion_config)\n",
    "    data_ingestion.download_file()\n",
    "except Exception as e:\n",
    "    raise e"
   ]
  },
  {
   "cell_type": "code",
   "execution_count": null,
   "metadata": {},
   "outputs": [],
   "source": []
  }
 ],
 "metadata": {
  "kernelspec": {
   "display_name": "bone-fracture-classification",
   "language": "python",
   "name": "python3"
  },
  "language_info": {
   "codemirror_mode": {
    "name": "ipython",
    "version": 3
   },
   "file_extension": ".py",
   "mimetype": "text/x-python",
   "name": "python",
   "nbconvert_exporter": "python",
   "pygments_lexer": "ipython3",
   "version": "3.10.11"
  }
 },
 "nbformat": 4,
 "nbformat_minor": 2
}
